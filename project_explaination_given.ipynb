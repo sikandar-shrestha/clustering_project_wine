{
 "cells": [
  {
   "cell_type": "markdown",
   "id": "c5691ca5",
   "metadata": {},
   "source": [
    "# Quit Your Wine-ing: What makes a high quality wine?"
   ]
  },
  {
   "cell_type": "markdown",
   "id": "c5bce0a3",
   "metadata": {},
   "source": [
    "## Goal :\n",
    "\n",
    "### Predict the quality of wine while incorporating unsupervised learning techniques.\n"
   ]
  },
  {
   "cell_type": "markdown",
   "id": "66829c99",
   "metadata": {},
   "source": [
    "## Scenario:\n",
    "* You are a data science consultant and have been tasked to find drivers of wine quality for the California Wine Institute.\n",
    "* Your audience will be the data science team in charge of data driven consultation for winery supply chain marketing. \n",
    "* They are most interested in seeing how utilizing clusters will affect a machine learning model. You will be delivering a slide deck presentation to share your findings."
   ]
  },
  {
   "cell_type": "markdown",
   "id": "b4d61605",
   "metadata": {},
   "source": [
    "## Deliverables\n",
    "\n",
    "### 1. New github repository \n",
    "\n",
    "> 1.1 README.md\n",
    "            \n",
    "*  Project goal and description Data dictionary\n",
    "*  Project plan\n",
    "*  Initial questions\n",
    "*  Conclusion\n",
    "*  How to reproduce your work \n",
    "\n",
    "> 1.2 final_notebook.ipynb\n",
    "        \n",
    "* Notebook that runs from top to bottom \n",
    "* Clearly shows the pipeline process\n",
    "\n",
    "    * Acquire\n",
    "    * Prepare\n",
    "    * Explore \n",
    "    * Model\n",
    "\n",
    "\n",
    "> 1.3 Python modules\n",
    "                \n",
    "* wrangle.py OR acquire.py & prepare.py\n",
    "\n",
    "### 2. Presentation \n",
    "        \n",
    "* Slides\n",
    "    * Introduction \n",
    "    * Executive \n",
    "    * Summary \n",
    "    * Findings \n",
    "    * Conclusion\n",
    "\n",
    "* 5 minutes time limit\n"
   ]
  },
  {
   "cell_type": "markdown",
   "id": "4faeb0f8",
   "metadata": {},
   "source": [
    "## Specification\n",
    "\n",
    "### Overall\n",
    "* he final notebook has ample documentation that explains your process\n",
    "* Notebook and modules contain code comments\n",
    "* Best practices on data splitting are followed\n",
    "\n",
    "### Acquire\n",
    "* Data is collected from Data.World Wine Quality Dataset \n",
    "\n",
    "### Prepare\n",
    "* The red and white csv's should be combined into a single column thats states if the wine is red or white\n",
    "* Column data types are appropriate\n",
    "* Missing values are investigated and handled \n",
    "* Outliers are investigated and handled\n",
    "\n",
    "### Exploration\n",
    "* The interaction between independent variables and the target variable is explored using visualization and statistical testing\n",
    "* Clustering is used to explore the data\n",
    "* Statistical testing and visualization is utilized to determine if the cluster is useful \n",
    "* A clear conclusion is drawn from the interactions\n",
    "* At least 3 combinations of features for clustering should be tried\n",
    "    \n",
    "    * The clusters should also be compared to the target variable\n",
    "\n",
    "### Modeling\n",
    "* At least 4 di!erent models are created and their performance is compared\n",
    "\n",
    "    * One model is the distinct combination of algorithm, hyperparameters, and features"
   ]
  },
  {
   "cell_type": "markdown",
   "id": "23759f7a",
   "metadata": {},
   "source": [
    "## Guidance\n",
    "\n",
    "* The data acquisition here can take some time. You should probably build out caching in your python scripts to store the data locally as a csv in order to speed up future data acquisition.\n",
    "* For your MVP, do the easiest thing at each stage to move forward.\n",
    "    * For example, for your mvp, decide not to deal with outliers and to simply drop all the null values\n",
    "* Model on scaled data, explore on unscaled\n",
    "* Clustering could be useful in several ways on this project:\n",
    "    * Do clusters produce an interesting insight, takeaway, or visualization that can be shared and communicated?\n",
    "    * With a small number of clusters, clusters could be one-hot encoded and used as a feature for modeling.\n",
    "    * Di!erent models can be created for di!erent clusters (while conceptually simple, this involves a much more complicated python implementation, so you should probably treat this idea as a bonus)\n",
    "* Sometimes your conclusion is that there is no e!ect or no significant di!erence. This is a valid conclusion in and of itself.\n",
    "* You might wish to start working in a notebook or to split your work up into multiple notebooks. This is totally fine and makes sense so long as eventually you clean up and transfer the work to a final notebook and/or python scripts.\n",
    "\n",
    "## Reminders\n",
    "\n",
    "For the avoidance of doubt, the major goal for this project is to:\n",
    "* Use clusters to help your exploration, understanding, and modeling of the data.\n",
    "* The target variable you are trying to predict is wine quality (you may decide whether you want to solve this with classification or regression)\n",
    "* If you use a cluster number as a feature, that cluster should NOT have the target variable of wine quality in it."
   ]
  }
 ],
 "metadata": {
  "kernelspec": {
   "display_name": "Python 3 (ipykernel)",
   "language": "python",
   "name": "python3"
  },
  "language_info": {
   "codemirror_mode": {
    "name": "ipython",
    "version": 3
   },
   "file_extension": ".py",
   "mimetype": "text/x-python",
   "name": "python",
   "nbconvert_exporter": "python",
   "pygments_lexer": "ipython3",
   "version": "3.11.5"
  }
 },
 "nbformat": 4,
 "nbformat_minor": 5
}
